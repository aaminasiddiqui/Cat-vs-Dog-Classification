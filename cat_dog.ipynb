{
  "nbformat": 4,
  "nbformat_minor": 0,
  "metadata": {
    "colab": {
      "provenance": [],
      "gpuType": "T4"
    },
    "kernelspec": {
      "name": "python3",
      "display_name": "Python 3"
    },
    "language_info": {
      "name": "python"
    },
    "accelerator": "GPU"
  },
  "cells": [
    {
      "cell_type": "code",
      "source": [],
      "metadata": {
        "id": "CcebMuyrLPYM"
      },
      "execution_count": null,
      "outputs": []
    },
    {
      "cell_type": "code",
      "execution_count": null,
      "metadata": {
        "id": "5yY4vJPYLDu0"
      },
      "outputs": [],
      "source": []
    },
    {
      "cell_type": "code",
      "source": [
        "from google.colab import drive\n",
        "drive.mount('/content/drive')"
      ],
      "metadata": {
        "colab": {
          "base_uri": "https://localhost:8080/"
        },
        "id": "FnL7tNEYLLZI",
        "outputId": "3acfa896-679e-4058-a0bf-6cbfc00fecf5"
      },
      "execution_count": 2,
      "outputs": [
        {
          "output_type": "stream",
          "name": "stdout",
          "text": [
            "Mounted at /content/drive\n"
          ]
        }
      ]
    },
    {
      "cell_type": "code",
      "source": [
        "import tensorflow as tf\n",
        "from tensorflow import keras\n",
        "from keras import Sequential\n",
        "from keras.layers import Dense,Conv2D,MaxPooling2D,Flatten,BatchNormalization,Dropout"
      ],
      "metadata": {
        "id": "zk8m6F3eSZbY"
      },
      "execution_count": 1,
      "outputs": []
    },
    {
      "cell_type": "code",
      "source": [
        "from keras.preprocessing.image import ImageDataGenerator\n",
        "from tensorflow.keras.utils import array_to_img, img_to_array, load_img"
      ],
      "metadata": {
        "id": "U_GDjBBPSaoO"
      },
      "execution_count": 2,
      "outputs": []
    },
    {
      "cell_type": "code",
      "source": [
        "#Data augmentation\n",
        "\n",
        "train_datagen=ImageDataGenerator(\n",
        "    rotation_range=30,\n",
        "    width_shift_range=0.1,\n",
        "    height_shift_range=0.1,\n",
        "    rescale=1./255,\n",
        "    shear_range=0.2,\n",
        "    zoom_range=0.2,\n",
        "    horizontal_flip=True\n",
        ")\n",
        "\n",
        "test_datagen=ImageDataGenerator(rescale=1./255)"
      ],
      "metadata": {
        "id": "lLqpeUldSdnf"
      },
      "execution_count": 3,
      "outputs": []
    },
    {
      "cell_type": "code",
      "source": [
        "#Generators\n",
        "batch_size=12\n",
        "train_generator=train_datagen.flow_from_directory(\n",
        "    '/content/drive/MyDrive/CATS_DOGS/train',\n",
        "    target_size=(150,150),\n",
        "    batch_size=batch_size,\n",
        "    class_mode='binary'\n",
        ")\n",
        "\n",
        "test_generator=test_datagen.flow_from_directory(\n",
        "    '/content/drive/MyDrive/CATS_DOGS/test',\n",
        "    target_size=(150,150),\n",
        "    batch_size=batch_size,\n",
        "    class_mode='binary'\n",
        ")"
      ],
      "metadata": {
        "colab": {
          "base_uri": "https://localhost:8080/"
        },
        "id": "153wg5t7Sf9M",
        "outputId": "72b24807-92c0-43f9-ce72-df902d92d24e"
      },
      "execution_count": 4,
      "outputs": [
        {
          "output_type": "stream",
          "name": "stdout",
          "text": [
            "Found 16220 images belonging to 2 classes.\n",
            "Found 6182 images belonging to 2 classes.\n"
          ]
        }
      ]
    },
    {
      "cell_type": "code",
      "source": [
        "#CNN model 32,64,128\n",
        "model = Sequential()\n",
        "\n",
        "model.add(Conv2D(32,kernel_size=(3,3),padding='valid',activation='relu',input_shape=(150,150,3)))\n",
        "model.add(BatchNormalization())\n",
        "model.add(MaxPooling2D(pool_size=(2,2),strides=2,padding='valid'))\n",
        "\n",
        "model.add(Conv2D(64,kernel_size=(3,3),padding='valid',activation='relu'))\n",
        "model.add(BatchNormalization())\n",
        "model.add(MaxPooling2D(pool_size=(2,2),strides=2,padding='valid'))\n",
        "\n",
        "model.add(Conv2D(128,kernel_size=(3,3),padding='valid',activation='relu'))\n",
        "model.add(BatchNormalization())\n",
        "model.add(MaxPooling2D(pool_size=(2,2),strides=2,padding='valid'))\n",
        "\n",
        "model.add(Flatten())\n",
        "\n",
        "model.add(Dense(128,activation='relu'))\n",
        "model.add(Dropout(0.1))\n",
        "model.add(Dense(64,activation='relu'))\n",
        "model.add(Dropout(0.1))\n",
        "model.add(Dense(1,activation='sigmoid'))\n",
        "\n",
        "model.summary()"
      ],
      "metadata": {
        "colab": {
          "base_uri": "https://localhost:8080/"
        },
        "id": "xxPN-nwISs8y",
        "outputId": "745705db-2c11-4cfc-a14c-ee24545c98a3"
      },
      "execution_count": 5,
      "outputs": [
        {
          "output_type": "stream",
          "name": "stdout",
          "text": [
            "Model: \"sequential\"\n",
            "_________________________________________________________________\n",
            " Layer (type)                Output Shape              Param #   \n",
            "=================================================================\n",
            " conv2d (Conv2D)             (None, 148, 148, 32)      896       \n",
            "                                                                 \n",
            " batch_normalization (Batch  (None, 148, 148, 32)      128       \n",
            " Normalization)                                                  \n",
            "                                                                 \n",
            " max_pooling2d (MaxPooling2  (None, 74, 74, 32)        0         \n",
            " D)                                                              \n",
            "                                                                 \n",
            " conv2d_1 (Conv2D)           (None, 72, 72, 64)        18496     \n",
            "                                                                 \n",
            " batch_normalization_1 (Bat  (None, 72, 72, 64)        256       \n",
            " chNormalization)                                                \n",
            "                                                                 \n",
            " max_pooling2d_1 (MaxPoolin  (None, 36, 36, 64)        0         \n",
            " g2D)                                                            \n",
            "                                                                 \n",
            " conv2d_2 (Conv2D)           (None, 34, 34, 128)       73856     \n",
            "                                                                 \n",
            " batch_normalization_2 (Bat  (None, 34, 34, 128)       512       \n",
            " chNormalization)                                                \n",
            "                                                                 \n",
            " max_pooling2d_2 (MaxPoolin  (None, 17, 17, 128)       0         \n",
            " g2D)                                                            \n",
            "                                                                 \n",
            " flatten (Flatten)           (None, 36992)             0         \n",
            "                                                                 \n",
            " dense (Dense)               (None, 128)               4735104   \n",
            "                                                                 \n",
            " dropout (Dropout)           (None, 128)               0         \n",
            "                                                                 \n",
            " dense_1 (Dense)             (None, 64)                8256      \n",
            "                                                                 \n",
            " dropout_1 (Dropout)         (None, 64)                0         \n",
            "                                                                 \n",
            " dense_2 (Dense)             (None, 1)                 65        \n",
            "                                                                 \n",
            "=================================================================\n",
            "Total params: 4837569 (18.45 MB)\n",
            "Trainable params: 4837121 (18.45 MB)\n",
            "Non-trainable params: 448 (1.75 KB)\n",
            "_________________________________________________________________\n"
          ]
        }
      ]
    },
    {
      "cell_type": "code",
      "source": [
        "model.compile(optimizer='adam',loss='binary_crossentropy',metrics=['accuracy'])"
      ],
      "metadata": {
        "id": "roKXekUwSxYu"
      },
      "execution_count": 6,
      "outputs": []
    },
    {
      "cell_type": "code",
      "source": [
        "results=model.fit(\n",
        "    train_generator,\n",
        "    epochs=10,\n",
        "    validation_data=test_generator\n",
        ")"
      ],
      "metadata": {
        "colab": {
          "base_uri": "https://localhost:8080/"
        },
        "id": "ICclJYO0S0td",
        "outputId": "87265e96-7eaa-4180-a174-873af5248373"
      },
      "execution_count": 8,
      "outputs": [
        {
          "output_type": "stream",
          "name": "stdout",
          "text": [
            "Epoch 1/10\n",
            "1352/1352 [==============================] - 225s 166ms/step - loss: 0.3513 - accuracy: 0.8440 - val_loss: 0.3510 - val_accuracy: 0.8541\n",
            "Epoch 2/10\n",
            "1352/1352 [==============================] - 200s 148ms/step - loss: 0.3439 - accuracy: 0.8492 - val_loss: 0.3352 - val_accuracy: 0.8601\n",
            "Epoch 3/10\n",
            "1352/1352 [==============================] - 197s 146ms/step - loss: 0.3276 - accuracy: 0.8575 - val_loss: 0.4933 - val_accuracy: 0.8077\n",
            "Epoch 4/10\n",
            "1352/1352 [==============================] - 199s 148ms/step - loss: 0.3163 - accuracy: 0.8639 - val_loss: 0.3336 - val_accuracy: 0.8604\n",
            "Epoch 5/10\n",
            "1352/1352 [==============================] - 208s 154ms/step - loss: 0.3073 - accuracy: 0.8691 - val_loss: 0.4069 - val_accuracy: 0.8476\n",
            "Epoch 6/10\n",
            "1352/1352 [==============================] - 195s 144ms/step - loss: 0.3042 - accuracy: 0.8750 - val_loss: 0.2917 - val_accuracy: 0.8827\n",
            "Epoch 7/10\n",
            "1352/1352 [==============================] - 195s 144ms/step - loss: 0.2927 - accuracy: 0.8755 - val_loss: 0.3185 - val_accuracy: 0.8628\n",
            "Epoch 8/10\n",
            "1352/1352 [==============================] - 194s 143ms/step - loss: 0.2925 - accuracy: 0.8731 - val_loss: 0.3139 - val_accuracy: 0.8623\n",
            "Epoch 9/10\n",
            "1352/1352 [==============================] - 207s 153ms/step - loss: 0.2859 - accuracy: 0.8797 - val_loss: 0.2770 - val_accuracy: 0.8947\n",
            "Epoch 10/10\n",
            "1352/1352 [==============================] - 194s 144ms/step - loss: 0.2849 - accuracy: 0.8814 - val_loss: 0.2950 - val_accuracy: 0.8767\n"
          ]
        }
      ]
    },
    {
      "cell_type": "code",
      "source": [
        "from keras.models import load_model"
      ],
      "metadata": {
        "id": "PEEFIHT2rfO7"
      },
      "execution_count": 9,
      "outputs": []
    },
    {
      "cell_type": "code",
      "source": [
        "model.save('CatDog.h5')\n",
        "model1=load_model('CatDog.h5')"
      ],
      "metadata": {
        "colab": {
          "base_uri": "https://localhost:8080/"
        },
        "id": "5By7f8e-q5Z7",
        "outputId": "977a263e-0d09-4c19-a227-910c08877f5e"
      },
      "execution_count": 10,
      "outputs": [
        {
          "output_type": "stream",
          "name": "stderr",
          "text": [
            "/usr/local/lib/python3.10/dist-packages/keras/src/engine/training.py:3103: UserWarning: You are saving your model as an HDF5 file via `model.save()`. This file format is considered legacy. We recommend using instead the native Keras format, e.g. `model.save('my_model.keras')`.\n",
            "  saving_api.save_model(\n"
          ]
        }
      ]
    },
    {
      "cell_type": "code",
      "source": [
        "import matplotlib.pyplot as plt\n",
        "\n",
        "plt.plot(results.history['accuracy'],color='red',label='train')\n",
        "plt.plot(results.history['val_accuracy'],color='blue',label='test')\n",
        "plt.legend()\n",
        "plt.show()"
      ],
      "metadata": {
        "colab": {
          "base_uri": "https://localhost:8080/",
          "height": 430
        },
        "id": "i1itdtrPrzdS",
        "outputId": "54b48ec6-92de-4df7-bb6c-71a7ced18f62"
      },
      "execution_count": 11,
      "outputs": [
        {
          "output_type": "display_data",
          "data": {
            "text/plain": [
              "<Figure size 640x480 with 1 Axes>"
            ],
            "image/png": "[encoded data removed]"
          },
          "metadata": {}
        }
      ]
    },
    {
      "cell_type": "code",
      "source": [
        "from tensorflow.keras.preprocessing import image\n",
        "import numpy as np\n",
        "\n",
        "cat_img=image.load_img('/content/drive/MyDrive/cat.jpg',target_size=(150,150))\n",
        "cat_img=image.img_to_array(cat_img)\n",
        "cat_img=np.expand_dims(cat_img,axis=0)\n",
        "cat_img=cat_img/255"
      ],
      "metadata": {
        "id": "2PE_cQYwr1Qk"
      },
      "execution_count": 16,
      "outputs": []
    },
    {
      "cell_type": "code",
      "source": [
        "prediction=model1.predict(cat_img)\n",
        "classification=np.argmax(model1.predict(cat_img), axis=-1)"
      ],
      "metadata": {
        "colab": {
          "base_uri": "https://localhost:8080/"
        },
        "id": "z3mzGEUQr9Ci",
        "outputId": "26bcf197-8c42-4587-b69b-d4fc7c92ce59"
      },
      "execution_count": 18,
      "outputs": [
        {
          "output_type": "stream",
          "name": "stdout",
          "text": [
            "1/1 [==============================] - 0s 365ms/step\n",
            "1/1 [==============================] - 0s 20ms/step\n"
          ]
        }
      ]
    },
    {
      "cell_type": "code",
      "source": [
        "classification"
      ],
      "metadata": {
        "colab": {
          "base_uri": "https://localhost:8080/"
        },
        "id": "FqOnJvfy02hN",
        "outputId": "e482afa8-7d21-440e-e68d-ca6f4bb1a8fd"
      },
      "execution_count": 19,
      "outputs": [
        {
          "output_type": "execute_result",
          "data": {
            "text/plain": [
              "array([0])"
            ]
          },
          "metadata": {},
          "execution_count": 19
        }
      ]
    }
  ]
}